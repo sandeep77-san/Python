{
 "cells": [
  {
   "cell_type": "markdown",
   "metadata": {},
   "source": [
    "Welcome to the 4-week module covering the basics of Python. We noticed that a lot of people come to the community and start doing Machine Learning projects without any exposure to coding. Others jump to Python from other languages like C, Java, etc. This course targets all and will act as the starting point to explore the amazing world of Python which is full of adventures and yes, Machine Learning! \n",
    "\n",
    "We don't promise to everything but we will try to cover whatever is necessary to get you started in Python. \n",
    "\n",
    "## A brief history of Python \n",
    "\n",
    "Python is a general-purpose interpreted, interactive, object-oriented, and high-level programming language. It was created by Guido van Rossum during 1985- 1990. Like Perl, Python source code is also available under the GNU General Public License (GPL). This tutorial gives enough understanding on Python programming language.\n",
    "\n",
    "## Why Python?\n",
    "\n",
    "Python is a high-level, interpreted, interactive and object-oriented scripting language. Python is designed to be highly readable. It uses English keywords frequently where as other languages use punctuation, and it has fewer syntactical constructions than other languages.\n",
    "\n",
    "Python is a MUST for students and working professionals to become a great Software Engineer specially when they are working in Web Development Domain. I will list down some of the key advantages of learning Python:\n",
    "\n",
    "* **Python is Interpreted**: Python is processed at runtime by the interpreter. You do not need to compile your program before executing it. This is similar to PERL and PHP.\n",
    "\n",
    "* **Python is Interactive**: You can actually sit at a Python prompt and interact with the interpreter directly to write your programs.\n",
    "\n",
    "* **Python is Object-Oriented**: Python supports Object-Oriented style or technique of programming that encapsulates code within objects.\n",
    "\n",
    "* **Python is a Beginner's Language**: Python is a great language for the beginner-level programmers and supports the development of a wide range of applications from simple text processing to WWW browsers to games.\n",
    "\n",
    "Few of the words stated above might seem Greek, but worry not, we will discuss all this in great detail. \n",
    "\n",
    "## What makes Python so likeable?\n",
    "\n",
    "Over the years, Python has taken over other languages like C, Java, Javascript, C++ and has been rated as number one language to learn owing to a variety of reasons:\n",
    "\n",
    "1. **Easy-to-learn**: Python has few keywords, simple structure, and a clearly defined syntax. This allows the student to pick up the language quickly.\n",
    "\n",
    "2. **Easy-to-read**: Python code is more clearly defined and visible to the eyes.\n",
    "\n",
    "3. **Easy-to-maintain**: Python's source code is fairly easy-to-maintain.\n",
    "\n",
    "4. **A broad standard library**: Python's bulk of the library is very portable and cross-platform compatible on UNIX, Windows, and Macintosh.\n",
    "\n",
    "5. **Interactive Mode**: Python has support for an interactive mode which allows interactive testing and debugging of snippets of code.\n",
    "\n",
    "6. **Portable**: Python can run on a wide variety of hardware platforms and has the same interface on all platforms.\n",
    "\n",
    "7. **Extendable**: You can add low-level modules to the Python interpreter. These modules enable programmers to add to or customize their tools to be more efficient.\n",
    "\n",
    "8. **Databases**: Python provides interfaces to all major commercial databases.\n",
    "\n",
    "9. **GUI Programming**: Python supports GUI applications that can be created and ported to many system calls, libraries and windows systems, such as Windows MFC, Macintosh, and the X Window system of Unix.\n",
    "\n",
    "10. **Scalable**: Python provides a better structure and support for large programs than shell scripting.\n",
    "\n",
    "## IDE\n",
    "\n",
    "So to write python and execute codes, you need an environment, also known as IDE (Integrated development environment). There are a lot of IDEs that you can use for writing Python. PyCharm, VS Code, Command prompt, online editors etc. The most used is the jupyter notebook which is very easy to use and versatile. We will recommend to use Jupyter notebook. \n",
    "\n",
    "## How to install Jupyter notebook?\n",
    "\n",
    "You need to first install anaconda installer to be able to install jupyter.\n",
    "\n",
    "Please follow these steps from the anaconda documentation: https://docs.anaconda.com/anaconda/install/\n",
    "\n",
    "After you are done installing anaconda, install jupyter by following these steps: https://jupyter.org/install\n",
    "\n",
    "You are good to go! You can start running jupyter on your machine! If you need more help, do check out relevant Youtube videos. \n",
    "\n",
    "After you are done installing Jupyter, you will get a notebook that somewhat look like this, the one you are reading currently. At the top, you will find the menu to modify. Use Markdown cell to write text and code cell to write your codes. \n",
    "\n",
    "So we are all set with Jupyter notebook, now let's write our customary \"Hello World\":"
   ]
  },
  {
   "cell_type": "code",
   "execution_count": 1,
   "metadata": {},
   "outputs": [
    {
     "name": "stdout",
     "output_type": "stream",
     "text": [
      "Hello World\n"
     ]
    }
   ],
   "source": [
    "print(\"Hello World\")"
   ]
  },
  {
   "cell_type": "markdown",
   "metadata": {},
   "source": [
    "See, how simple things are, to write in Python! That is why everyone loves Python so much. \n",
    "\n",
    "## Lines and Indentation\n",
    "\n",
    "Python provides no braces to indicate blocks of code for class and function definitions or flow control. Blocks of code are denoted by line indentation, which is rigidly enforced.\n",
    "\n",
    "The number of spaces in the indentation is variable, but all statements within the block must be indented the same amount. For example −"
   ]
  },
  {
   "cell_type": "code",
   "execution_count": 3,
   "metadata": {},
   "outputs": [
    {
     "name": "stdout",
     "output_type": "stream",
     "text": [
      "bye\n"
     ]
    }
   ],
   "source": [
    "x=8\n",
    "if x==0:\n",
    "    print(\"Hi\")\n",
    "else:\n",
    "    print(\"bye\")"
   ]
  },
  {
   "cell_type": "markdown",
   "metadata": {},
   "source": [
    "So you can see after we have written if x==0, there is some indentation before the next line of code starts. That is how python works. \n",
    "\n",
    "## Comments in Python\n",
    "\n",
    "A hash sign (#) that is not inside a string literal begins a comment. All characters after the # and up to the end of the physical line are part of the comment and the Python interpreter ignores them.\n",
    "\n",
    "Jupyter notebook gives an option for you to write in markdown cells which is an interesting feature according to me. "
   ]
  },
  {
   "cell_type": "code",
   "execution_count": 5,
   "metadata": {},
   "outputs": [
    {
     "name": "stdout",
     "output_type": "stream",
     "text": [
      "hi\n"
     ]
    }
   ],
   "source": [
    "# This is a project \n",
    "print (\"hi\")"
   ]
  },
  {
   "cell_type": "markdown",
   "metadata": {},
   "source": [
    "Following triple-quoted string is also ignored by Python interpreter and can be used as a multiline comments:"
   ]
  },
  {
   "cell_type": "code",
   "execution_count": 6,
   "metadata": {},
   "outputs": [
    {
     "data": {
      "text/plain": [
       "'\\nThis is a project.\\n'"
      ]
     },
     "execution_count": 6,
     "metadata": {},
     "output_type": "execute_result"
    }
   ],
   "source": [
    "'''\n",
    "This is a project.\n",
    "'''"
   ]
  },
  {
   "cell_type": "markdown",
   "metadata": {},
   "source": [
    "## Variables in Python\n",
    "\n",
    "Variables are nothing but reserved memory locations to store values. This means that when you create a variable you reserve some space in memory.\n",
    "\n",
    "Based on the data type of a variable, the interpreter allocates memory and decides what can be stored in the reserved memory. Therefore, by assigning different data types to variables, you can store integers, decimals or characters in these variables.\n",
    "\n",
    "## Assigning Values to Variables\n",
    "\n",
    "Python variables do not need explicit declaration to reserve memory space. The declaration happens automatically when you assign a value to a variable. The equal sign (=) is used to assign values to variables.\n",
    "\n",
    "The operand to the left of the = operator is the name of the variable and the operand to the right of the = operator is the value stored in the variable. "
   ]
  },
  {
   "cell_type": "code",
   "execution_count": 8,
   "metadata": {},
   "outputs": [],
   "source": [
    "x=40 #integer\n",
    "x=40.0 #float\n",
    "x=\"hi\" #string"
   ]
  },
  {
   "cell_type": "markdown",
   "metadata": {},
   "source": [
    "## Standard Data Types\n",
    "\n",
    "The data stored in memory can be of many types. For example, a person's height is stored as a numeric value and his or her name is stored as alphanumeric characters. Python has various standard data types that are used to define the operations possible on them and the storage method for each of them.\n",
    "\n",
    "Python has five standard data types −\n",
    "\n",
    "1. Numbers\n",
    "2. String\n",
    "3. List\n",
    "4. Tuple\n",
    "5. Dictionary\n",
    "\n",
    "\n",
    "## Python Numbers\n",
    "\n",
    "Number data types store numeric values. Number objects are created when you assign a value to them. There are integers and floats. Integers are numbers without decimal values and floats have decimals, this is the easiest way to differentiate between both. \n",
    "\n",
    "## Basic operators in Python \n",
    "\n",
    "Operators are the constructs which can manipulate the value of operands.\n",
    "\n",
    "Consider the expression 4 + 5 = 9. Here, 4 and 5 are called operands and + is called operator.\n",
    "\n",
    "### Types of Operator\n",
    "\n",
    "Python language supports the following types of operators.\n",
    "\n",
    "1. Arithmetic Operators\n",
    "2. Comparison (Relational) Operators\n",
    "3. Assignment Operators\n",
    "4. Logical Operators\n",
    "5. Bitwise Operators\n",
    "6. Membership Operators\n",
    "7. Identity Operators\n",
    "\n",
    "We will discuss few of them:\n",
    "\n",
    "### 1. Arithmetic operators: \n",
    "* a+b\n",
    "* a-b\n",
    "* a*b\n",
    "* a/b \n",
    "\n",
    "The above ones has same meaning as in conventionals maths. The new ones are:\n",
    "\n",
    "* a%b: **Modulus** Divides left hand operand by right hand operand and returns remainder. \n",
    "* a ** b: **Exponent** Performs exponential (power) calculation on operators\n",
    "* a//b: **Floor Division** - The division of operands where the result is the quotient in which the digits after the decimal point are removed. But if one of the operands is negative, the result is floored, i.e., rounded away from zero (towards negative infinity)\n",
    "\n",
    "### 2. Comparison operators:\n",
    "\n",
    "1. a==b: If the values of two operands are equal, then the condition becomes true.\n",
    "2. a!=b: If values of two operands are not equal, then condition becomes true.\n",
    "3. a<>b: If values of two operands are not equal, then condition becomes true. This is similar to != operator.\n",
    "4. a>b:\tIf the value of left operand is greater than the value of right operand, then condition becomes true.\t\n",
    "5. a<b:\tIf the value of left operand is less than the value of right operand, then condition becomes true.\n",
    "6. a>=b: If the value of left operand is greater than or equal to the value of right operand, then condition becomes true.\n",
    "7. a<=b: If the value of left operand is less than or equal to the value of right operand, then condition becomes true.\t\n",
    "\n",
    "### 3. Logical operators\n",
    "\n",
    "and a AND b: If both the operands are true then condition becomes true.\t\n",
    "or a OR\tb: If any of the two operands are non-zero then condition becomes true.\n",
    "not a NOT b: Used to reverse the logical state of its operand.\n",
    "\n",
    "## Number Type Conversion\n",
    "\n",
    "Python converts numbers internally in an expression containing mixed types to a common type for evaluation. But sometimes, you need to coerce a number explicitly from one type to another to satisfy the requirements of an operator or function parameter.\n",
    "\n",
    "* Type int(x) to convert x to a plain integer.\n",
    "\n",
    "* Type long(x) to convert x to a long integer.\n",
    "\n",
    "* Type float(x) to convert x to a floating-point number.\n",
    "\n",
    "* Type complex(x) to convert x to a complex number with real part x and imaginary part zero.\n",
    "\n",
    "* Type complex(x, y) to convert x and y to a complex number with real part x and imaginary part y. x and y are numeric expressions"
   ]
  },
  {
   "cell_type": "markdown",
   "metadata": {},
   "source": [
    "## Python Strings\n",
    "\n",
    "Strings in Python are identified as a contiguous set of characters represented in the quotation marks. Python allows for either pairs of single or double quotes. Subsets of strings can be taken using the slice operator ([ ] and [:] ) with indexes starting at 0 in the beginning of the string and working their way from -1 at the end.\n",
    "\n",
    "The plus (+) sign is the string concatenation operator and the asterisk (*) is the repetition operator. For example"
   ]
  },
  {
   "cell_type": "code",
   "execution_count": 16,
   "metadata": {},
   "outputs": [
    {
     "name": "stdout",
     "output_type": "stream",
     "text": [
      "W\n"
     ]
    }
   ],
   "source": [
    "x=\"Welcome to the project\"\n",
    "\n",
    "# To access the first letter in the above string, we will write:\n",
    "\n",
    "print(x[0])"
   ]
  },
  {
   "cell_type": "code",
   "execution_count": 20,
   "metadata": {},
   "outputs": [
    {
     "name": "stdout",
     "output_type": "stream",
     "text": [
      "lcome \n"
     ]
    }
   ],
   "source": [
    "#To print 3rd to 8th word:\n",
    "\n",
    "print(x[2:8])"
   ]
  },
  {
   "cell_type": "markdown",
   "metadata": {},
   "source": [
    "Notice the indices. In python string, the first number starts with 0, instead of 1 in our conventional counting system. And the last index is not counted, so we have to write one extra. "
   ]
  },
  {
   "cell_type": "code",
   "execution_count": 21,
   "metadata": {},
   "outputs": [
    {
     "name": "stdout",
     "output_type": "stream",
     "text": [
      "Welcome to the projectWelcome to the project\n"
     ]
    }
   ],
   "source": [
    "print(x*2)"
   ]
  },
  {
   "cell_type": "code",
   "execution_count": 23,
   "metadata": {},
   "outputs": [
    {
     "name": "stdout",
     "output_type": "stream",
     "text": [
      "Welcome to the project Hi\n"
     ]
    }
   ],
   "source": [
    "print(x+\" Hi\")"
   ]
  },
  {
   "cell_type": "markdown",
   "metadata": {},
   "source": [
    "This is all for week 1, we will continue with more in week 2. We have made a light week 1 module so that it is easier to grasp and begin with. We will increase the content further in upcoming weeks. See you all next week!"
   ]
  }
 ],
 "metadata": {
  "kernelspec": {
   "display_name": "Python 3",
   "language": "python",
   "name": "python3"
  },
  "language_info": {
   "codemirror_mode": {
    "name": "ipython",
    "version": 3
   },
   "file_extension": ".py",
   "mimetype": "text/x-python",
   "name": "python",
   "nbconvert_exporter": "python",
   "pygments_lexer": "ipython3",
   "version": "3.7.4"
  }
 },
 "nbformat": 4,
 "nbformat_minor": 2
}
